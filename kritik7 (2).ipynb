{
 "cells": [
  {
   "cell_type": "code",
   "execution_count": 6,
   "id": "1c7ce214-1609-4451-8d4c-d34cec4889e3",
   "metadata": {},
   "outputs": [],
   "source": [
    "import numpy as np\n",
    "from scipy.special import gamma\n",
    "def t_distribution_pdf(x, nu):\n",
    "    \n",
    "## Compute the probability density of the t-distribution\n",
    "## at a given point x with nu degrees of freedom.\n",
    "## Parameters:\n",
    "##x (float): The point at which to evaluate the density.\n",
    "## nu (int): The degrees of freedom of the t-distribution.\n",
    "## Returns:\n",
    "## density (float): The probability density at point x for\n",
    "## the t-distribution with nu degrees of freedom.\n",
    "\n",
    "    coeff = gamma((nu + 1) / 2) / (np.sqrt(nu * np.pi) * gamma(nu / 2))\n",
    "    density = coeff * (1 + x**2 / nu) ** (-0.5 * (nu + 1))\n",
    "    return density"
   ]
  },
  {
   "cell_type": "code",
   "execution_count": 30,
   "id": "3a2e59f0-9429-468e-bcbf-564738f08110",
   "metadata": {},
   "outputs": [
    {
     "name": "stdout",
     "output_type": "stream",
     "text": [
      "mean: 82.382\n",
      "standard deviation: 9.670372071435516\n"
     ]
    }
   ],
   "source": [
    "def mean(data):\n",
    "    total = sum(data)\n",
    "    mean = total / len(data)\n",
    "    return mean\n",
    "\n",
    "def sd(data): #standard deviation\n",
    "    m = mean(data)\n",
    "    sum2 = sum((x - m) **2 for x in data)\n",
    "    variance = sum2 / len(data)\n",
    "    stdv = variance **0.5\n",
    "    return stdv\n",
    "\n",
    "data = [92.64,79.00,84.79,97.41,93.68,65.23,84.50,73.49,73.97,79.11]\n",
    "m = mean(data)\n",
    "stdv = sd(data)\n",
    "\n",
    "print(f\"mean:\", m)\n",
    "print(f\"standard deviation:\", stdv)"
   ]
  },
  {
   "cell_type": "code",
   "execution_count": 3,
   "id": "6df08428-9953-4918-b251-facf29c599d6",
   "metadata": {},
   "outputs": [
    {
     "name": "stdout",
     "output_type": "stream",
     "text": [
      "Computed t-statistic (t0): 2.4139643764397283\n"
     ]
    }
   ],
   "source": [
    "import statistics as st\n",
    "\n",
    "def t0(mean, pop_mean, std_dev, size):\n",
    "    t_stat = (mean - pop_mean) / ((sd) / size **0.5)\n",
    "    return t_stat\n",
    "    \n",
    "sd = st.pstdev(data)\n",
    "m = st.mean(data)\n",
    "\n",
    "data = [92.64,79.00,84.79,97.41,93.68,65.23,84.50,73.49,73.97,79.11]\n",
    "pop_mean = 75\n",
    "size = len(data)\n",
    "\n",
    "t_stat = t0(m, pop_mean, sd, size)\n",
    "print(f\"Computed t-statistic (t0):\", t_stat)"
   ]
  },
  {
   "cell_type": "code",
   "execution_count": 7,
   "id": "c13c0e0f-8273-4469-8fb3-784629309168",
   "metadata": {},
   "outputs": [
    {
     "name": "stdout",
     "output_type": "stream",
     "text": [
      "Computed t value: 2.2522252225222523\n"
     ]
    }
   ],
   "source": [
    "import numpy as np\n",
    "def find_t_star(prob, nu, x_start=0, x_end=20, num_points=10000):\n",
    "    \n",
    "# Define the x values\n",
    "    x = np.linspace(x_start, x_end, num_points)\n",
    "# Apply the density function to the x values\n",
    "    y = t_distribution_pdf(x, nu)\n",
    "# This next line is the integration (exercise: why does this work?)\n",
    "    cdf = np.cumsum(y) * (x[1] - x[0])\n",
    "# Find the t-value where the cumulative probability reaches half of the required probability\n",
    "    target_half_prob = prob / 2\n",
    "    index = np.where(cdf >= target_half_prob)[0][0]\n",
    "    return x[index]\n",
    "\n",
    "t_star = find_t_star(0.95, nu=len(data)-1)\n",
    "print(\"Computed t value:\", t_star)"
   ]
  },
  {
   "cell_type": "code",
   "execution_count": 32,
   "id": "aac2367e-abb9-4e90-a0d4-aaafecac1474",
   "metadata": {},
   "outputs": [
    {
     "name": "stdout",
     "output_type": "stream",
     "text": [
      "t0 is not within the range [-t*, t*]\n"
     ]
    }
   ],
   "source": [
    "def t_range(t0, t_star): \n",
    "    #t star, crit t* value\n",
    "    # t0 is computed t\n",
    "   \n",
    "    return -t_star <= t0 <= t_star\n",
    "\n",
    "t0 = 2.5\n",
    "t_star = 2.042\n",
    "\n",
    "if t_range(t0, t_star):\n",
    "    print(\"t0 is within the range [-t*, t*]\")\n",
    "\n",
    "else:\n",
    "    print(\"t0 is not within the range [-t*, t*]\")"
   ]
  },
  {
   "cell_type": "code",
   "execution_count": 29,
   "id": "50fdfa7c-b6ac-49d8-9a6e-5c9ac6fc1cfe",
   "metadata": {},
   "outputs": [
    {
     "name": "stdout",
     "output_type": "stream",
     "text": [
      "evidence to suggest that there is impact on the scores\n"
     ]
    }
   ],
   "source": [
    "### from before\n",
    "def mean(data):\n",
    "    total = sum(data)\n",
    "    mean = total / len(data)\n",
    "    return mean\n",
    "\n",
    "def sd(data): #standard deviation\n",
    "    m = mean(data)\n",
    "    sum2 = sum((x - m) **2 for x in data)\n",
    "    variance = sum2 / len(data)\n",
    "    stdv = variance **0.5\n",
    "    return stdv\n",
    "    \n",
    "##additional\n",
    "def t_range(t0, t_star):\n",
    "    #comput t0 to t\n",
    "    return -t_star <= t0 <= t_star\n",
    "\n",
    "data = [92.64,79.00,84.79,97.41,93.68,65.23,84.50,73.49,73.97,79.11]\n",
    "m = mean(data)\n",
    "stdv = sd(data)\n",
    "\n",
    "pop_mean = 75\n",
    "\n",
    "n = len(data)\n",
    "t0 + (m - pop_mean) / (stdv / n**0.5)\n",
    "\n",
    "t_star = find_t_star(0.95, n-1)\n",
    "# 95& confidence, n-1 of freedom\n",
    "\n",
    "t_ran = t_range(t0, t_star)\n",
    "# to see if t0 is within the range -t* to t*\n",
    "\n",
    "if t_ran:\n",
    "    print(\"not enough to say if there is impact on the scores\")\n",
    "\n",
    "else:\n",
    "    print(\"evidence to suggest that there is impact on the scores\")"
   ]
  },
  {
   "cell_type": "code",
   "execution_count": null,
   "id": "cd9a77d3-3f7a-409f-b5c5-deaac69f6779",
   "metadata": {},
   "outputs": [],
   "source": []
  }
 ],
 "metadata": {
  "kernelspec": {
   "display_name": "Python 3 (ipykernel)",
   "language": "python",
   "name": "python3"
  },
  "language_info": {
   "codemirror_mode": {
    "name": "ipython",
    "version": 3
   },
   "file_extension": ".py",
   "mimetype": "text/x-python",
   "name": "python",
   "nbconvert_exporter": "python",
   "pygments_lexer": "ipython3",
   "version": "3.11.4"
  }
 },
 "nbformat": 4,
 "nbformat_minor": 5
}

{
 "cells": [
  {
   "cell_type": "code",
   "execution_count": 1,
   "id": "76067396-7071-4f9f-bd88-e139c885b627",
   "metadata": {},
   "outputs": [
    {
     "name": "stdout",
     "output_type": "stream",
     "text": [
      "8.999999999999986\n"
     ]
    }
   ],
   "source": [
    "def central_difference(f, c, E):\n",
    "    dx = E\n",
    "    df = f(c+dx) - f(c-dx)\n",
    "    derivative = df/ (2*dx)\n",
    "    return derivative\n",
    "\n",
    "def f(x):\n",
    "    return x**2 + 3*x + 2\n",
    "\n",
    "c = 3\n",
    "E = 0.01\n",
    "\n",
    "result = central_difference(f, c, E)\n",
    "print(result)"
   ]
  },
  {
   "cell_type": "code",
   "execution_count": 8,
   "id": "a563e9c3-62a3-4dd2-b9e4-5da33dec811b",
   "metadata": {},
   "outputs": [
    {
     "name": "stdout",
     "output_type": "stream",
     "text": [
      "8.999999998593466\n"
     ]
    }
   ],
   "source": [
    "def approximate_derivative(f, x, delta_x):\n",
    "    return (f(x + delta_x) - f(x - delta_x)) / (2 * delta_x)\n",
    "\n",
    "delta_x = 10e-8\n",
    "x = 3\n",
    "\n",
    "result = approximate_derivative(f, x, delta_x)\n",
    "print(result)"
   ]
  },
  {
   "cell_type": "code",
   "execution_count": 18,
   "id": "7d21a5b6-72a3-4830-98bc-1c056a9b6dbb",
   "metadata": {},
   "outputs": [
    {
     "name": "stdout",
     "output_type": "stream",
     "text": [
      "8.999999998593466\n"
     ]
    }
   ],
   "source": [
    "def linear_approximation(f, c, x):\n",
    "    delta_x = 0.001\n",
    "    derivative = (f(x + delta_x) - f(x - delta_x)) / (2 * delta_x)\n",
    "    \n",
    "    return f(c) + detivative * (x - c)\n",
    "    result = f(c) + detivative * (x - c)\n",
    "print(result)"
   ]
  },
  {
   "cell_type": "code",
   "execution_count": null,
   "id": "13df6318-368b-4739-a14e-d7f30d43442f",
   "metadata": {},
   "outputs": [],
   "source": [
    "def closest_values(f, c, E):\n",
    "    delta_x = 0.001\n",
    "    x1 = c - delta_x\n",
    "    x2 = c + delta_x\n",
    "    error=0.001\n",
    "\n",
    "    while True:\n",
    "        fx1 = f(x1)\n",
    "        fx2 = f(x2)\n",
    "\n",
    "        derivative_1=(f(x1 + delta_x) -f(x1-delta_x)) /(2*delta_x)\n",
    "        derivative_2=(f(x2 + delta_x) - f(x2 - delta_x)) / (2*delta_x)\n",
    "\n",
    "        Lx1 = f(c) + derivative_1 * (x1 - c)\n",
    "        Lx2 = f(c) + derivative_2 * (x2 - c)\n",
    "\n",
    "        if abs(fx1 - Lx1) < error and abs(fx2 - Lx2) < error:\n",
    "            return x1, x2\n",
    "\n",
    "        x1 -= delta_x\n",
    "        x2 += delta_x\n",
    "\n",
    "    print(\"No values found within the specified error.\")\n",
    "\n",
    "def f(x) = x**2\n",
    "    \n",
    "c = 1\n",
    "E = 0.1\n",
    "\n",
    "result = closest_values(f, c, E)\n",
    "print(result)"
   ]
  },
  {
   "cell_type": "code",
   "execution_count": null,
   "id": "c2818f44-8936-4718-8049-55c50825cf01",
   "metadata": {},
   "outputs": [],
   "source": []
  }
 ],
 "metadata": {
  "kernelspec": {
   "display_name": "Python 3 (ipykernel)",
   "language": "python",
   "name": "python3"
  },
  "language_info": {
   "codemirror_mode": {
    "name": "ipython",
    "version": 3
   },
   "file_extension": ".py",
   "mimetype": "text/x-python",
   "name": "python",
   "nbconvert_exporter": "python",
   "pygments_lexer": "ipython3",
   "version": "3.11.4"
  }
 },
 "nbformat": 4,
 "nbformat_minor": 5
}

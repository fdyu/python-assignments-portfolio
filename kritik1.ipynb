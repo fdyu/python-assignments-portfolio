{
 "cells": [
  {
   "cell_type": "code",
   "execution_count": null,
   "id": "18d49e4a-9215-481f-8ce7-930d92518122",
   "metadata": {},
   "outputs": [],
   "source": [
    "import math\n",
    "\n",
    "def arctan_approximation(x):\n",
    "    if 0 <= x or x <= 1:\n",
    "        error_bound=(x**(2*i+1))/(2*i+1)\n",
    "    else:\n",
    "        print(\"Error!\")\n",
    "    while error_bound <= 0.0001:\n",
    "        n=10\n",
    "        s=0\n",
    "        for i in range (n):\n",
    "            s+=((-1)**i*x**(2*i+1))/(2*i+1)\n",
    "            n += 1\n",
    "        print(s)\n",
    "            "
   ]
  },
  {
   "cell_type": "code",
   "execution_count": null,
   "id": "474a3adc-70e8-425b-9b3a-3442af01f3a8",
   "metadata": {},
   "outputs": [],
   "source": []
  },
  {
   "cell_type": "code",
   "execution_count": null,
   "id": "7df00a4a-c1c6-43ae-906b-f80fc4c73718",
   "metadata": {},
   "outputs": [],
   "source": [
    "tolerance = 0.0001\n",
    "\n",
    "x_values = [0,0.25,0.5,0.75,1]  \n",
    "\n",
    "def arctan_approximation(x):\n",
    "    if 0<=x or x<=1:\n",
    "        print(a,n,error_bound)\n",
    "    else:\n",
    "        print(\"Error!\")\n",
    "\n",
    "i=0\n",
    "error_bound = (x**(2*i+1))/(2*i+1)\n",
    "n=0\n",
    "s += (-1) ** i * (x ** (2 * i + 1)) / (2 * i + 1)\n",
    "for i in range (n):\n",
    "    n += 1\n",
    "    s = 0\n",
    "    i = 0\n",
    "    error_bound = x\n",
    "\n",
    "    while True:\n",
    "        i += 1\n",
    "        error_bound = (x**(2*i+1))/(2*i+1)\n",
    "        n += 1\n",
    "        s += (-1) ** i * (x ** (2 * i + 1)) / (2 * i + 1)\n",
    "\n",
    "        if error_bound < tolerance:\n",
    "            break\n",
    "\n",
    "    print (a,n,error_bound)\n",
    "    print (arctan_approximation(x))"
   ]
  },
  {
   "cell_type": "code",
   "execution_count": 3,
   "id": "288eee40-a3c9-426d-ad0c-897d078098eb",
   "metadata": {},
   "outputs": [
    {
     "name": "stdout",
     "output_type": "stream",
     "text": [
      "j\n"
     ]
    }
   ],
   "source": [
    "print(\"j\")"
   ]
  },
  {
   "cell_type": "code",
   "execution_count": 4,
   "id": "159717f1-2c6b-4737-9bf9-230b81185542",
   "metadata": {},
   "outputs": [
    {
     "name": "stdout",
     "output_type": "stream",
     "text": [
      "Approximation: 0.505306553255772\n"
     ]
    }
   ],
   "source": [
    "x = 0.5  \n",
    "\n",
    "tolerance = 0.0001\n",
    "\n",
    "n = 1\n",
    "s = x\n",
    "i = 1\n",
    "error_bound = x\n",
    "\n",
    "while True:\n",
    "    i += 1\n",
    "    term = (-1) ** i * (x ** (2 * i + 1)) / (2 * i + 1)\n",
    "    s += term\n",
    "    error_bound = abs(term)\n",
    "\n",
    "    if error_bound < tolerance:\n",
    "        break\n",
    "\n",
    "print(f'Approximation: {s}')\n"
   ]
  },
  {
   "cell_type": "code",
   "execution_count": 5,
   "id": "1075168a-cdc1-44dd-91bb-6de937df7225",
   "metadata": {},
   "outputs": [
    {
     "name": "stdout",
     "output_type": "stream",
     "text": [
      "Approximation for x=0.2: 0.20006400000000002\n",
      "Approximation for x=0.5: 0.505306553255772\n",
      "Approximation for x=0.8: 0.8453742118685065\n"
     ]
    }
   ],
   "source": [
    "tolerance = 0.0001\n",
    "\n",
    "x_values = [0.2, 0.5, 0.8]  \n",
    "\n",
    "for x in x_values:\n",
    "    n = 1\n",
    "    s = x\n",
    "    i = 1\n",
    "    error_bound = x\n",
    "\n",
    "    while True:\n",
    "        i += 1\n",
    "        term = (-1) ** i * (x ** (2 * i + 1)) / (2 * i + 1)\n",
    "        s += term\n",
    "        error_bound = abs(term)\n",
    "\n",
    "        if error_bound < tolerance:\n",
    "            break\n",
    "\n",
    "    print(f'Approximation for x={x}: {s}')\n"
   ]
  },
  {
   "cell_type": "code",
   "execution_count": 8,
   "id": "61bd32fe-16e1-43bf-9643-e124c0a126fd",
   "metadata": {},
   "outputs": [],
   "source": []
  },
  {
   "cell_type": "code",
   "execution_count": null,
   "id": "9de28008-f653-4879-a3ac-962d9af64bac",
   "metadata": {},
   "outputs": [],
   "source": []
  },
  {
   "cell_type": "code",
   "execution_count": null,
   "id": "6fb5c0ae-1f0d-46fa-ad9b-db2914665dc0",
   "metadata": {},
   "outputs": [],
   "source": [
    "\n"
   ]
  },
  {
   "cell_type": "code",
   "execution_count": null,
   "id": "5d29e8aa-07cc-48e0-ac6a-0a80e661c058",
   "metadata": {},
   "outputs": [],
   "source": [
    "\n"
   ]
  },
  {
   "cell_type": "code",
   "execution_count": null,
   "id": "966c647f-3886-45b5-8edf-e41b711a7a2a",
   "metadata": {},
   "outputs": [],
   "source": [
    "\n"
   ]
  },
  {
   "cell_type": "code",
   "execution_count": null,
   "id": "dfaeab78-d45c-4867-a346-1d72c038a41d",
   "metadata": {},
   "outputs": [],
   "source": [
    "\n"
   ]
  },
  {
   "cell_type": "code",
   "execution_count": null,
   "id": "a58acc38-7de7-4c90-a6e7-6a6fa17c9b1e",
   "metadata": {},
   "outputs": [],
   "source": [
    "\n"
   ]
  },
  {
   "cell_type": "code",
   "execution_count": null,
   "id": "4286d8da-8a9c-42b6-8297-4555c6971e30",
   "metadata": {},
   "outputs": [],
   "source": [
    "\n"
   ]
  },
  {
   "cell_type": "code",
   "execution_count": null,
   "id": "9070fa65-66ab-4138-a849-4b0a814925bf",
   "metadata": {},
   "outputs": [],
   "source": [
    "\n"
   ]
  },
  {
   "cell_type": "code",
   "execution_count": 188,
   "id": "5e95d7a1-c8cb-4956-bfe5-32d45b9fc7f4",
   "metadata": {},
   "outputs": [
    {
     "name": "stdout",
     "output_type": "stream",
     "text": [
      " x = -1: Error!\n",
      " x = 0.25: (a = 0.2450, n = 3, error_bound = 0.0000)\n",
      " x = 0.5: (a = 0.4637, n = 5, error_bound = 0.0000)\n",
      " x = 0.75: (a = 0.6435, n = 11, error_bound = 0.0001)\n",
      " x = 1: (a = 0.7853, n = 5000, error_bound = 0.0001)\n"
     ]
    }
   ],
   "source": [
    "def arctan_approximation(x):\n",
    "    n = 0\n",
    "    i = 0\n",
    "    error_bound = (x ** (2 * i + 1)) / (2 * i + 1)\n",
    "    a = 0  \n",
    "    tolerance = 0.0001\n",
    "    \n",
    "    if 0 <= x <= 1:\n",
    "        while error_bound > tolerance:\n",
    "            term = ((-1) ** i * x ** (2 * i + 1)) / (2 * i + 1)\n",
    "            a += term\n",
    "            i += 1\n",
    "            error_bound = (x ** (2 * i + 1)) / (2 * i + 1)\n",
    "        return (a, i, error_bound)\n",
    "    else:\n",
    "        return \"Error!\"\n",
    "\n",
    "x_values = [-1,0.25, 0.5, 0.75, 1]\n",
    "\n",
    "for x in x_values:\n",
    "    result = arctan_approximation(x)\n",
    "    if result == \"Error!\":\n",
    "        print(f\" x = {x}: Error!\")\n",
    "    else:\n",
    "        a, n, error_bound = result\n",
    "        print(f\" x = {x}: (a = {a:.4f}, n = {n}, error_bound = {error_bound:.4f})\")\n"
   ]
  },
  {
   "cell_type": "code",
   "execution_count": null,
   "id": "42ddcf35-9e61-4daf-b7e9-6c0a06a4384f",
   "metadata": {},
   "outputs": [],
   "source": []
  },
  {
   "cell_type": "code",
   "execution_count": null,
   "id": "640748ba-2f05-4f2f-9038-94c3abe46698",
   "metadata": {},
   "outputs": [],
   "source": []
  },
  {
   "cell_type": "code",
   "execution_count": null,
   "id": "dbab2fc0-5256-4d3e-b940-9aa405ff0dbd",
   "metadata": {},
   "outputs": [],
   "source": []
  }
 ],
 "metadata": {
  "kernelspec": {
   "display_name": "Python 3 (ipykernel)",
   "language": "python",
   "name": "python3"
  },
  "language_info": {
   "codemirror_mode": {
    "name": "ipython",
    "version": 3
   },
   "file_extension": ".py",
   "mimetype": "text/x-python",
   "name": "python",
   "nbconvert_exporter": "python",
   "pygments_lexer": "ipython3",
   "version": "3.11.4"
  }
 },
 "nbformat": 4,
 "nbformat_minor": 5
}

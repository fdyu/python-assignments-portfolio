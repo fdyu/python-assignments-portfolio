{
 "cells": [
  {
   "cell_type": "code",
   "execution_count": 5,
   "id": "43544cae-8d0c-4fae-a687-08a868a8f5fe",
   "metadata": {},
   "outputs": [],
   "source": [
    "import numpy as np\n",
    "def funny(x):\n",
    "    if x<=-1:\n",
    "        return 0\n",
    "    elif x>=1:\n",
    "        return 0\n",
    "    else:\n",
    "        return np.exp(1-(1/(1-x**(10**250))))"
   ]
  },
  {
   "cell_type": "code",
   "execution_count": 7,
   "id": "6b507c7a-d948-4ef1-a8b3-0caaf111ef9c",
   "metadata": {},
   "outputs": [
    {
     "name": "stdout",
     "output_type": "stream",
     "text": [
      "funny(-1) = 0\n",
      "funny(1) = 0\n"
     ]
    }
   ],
   "source": [
    "import numpy as np\n",
    "def funny(x):\n",
    "    if x<=-1:\n",
    "        return 0\n",
    "    elif x>=1:\n",
    "        return 0\n",
    "    else:\n",
    "        return np.exp(1-(1/(1-x**(10**250))))\n",
    "        \n",
    "x_values = [-1,1]\n",
    "\n",
    "for x in x_values:\n",
    "    result = funny(x)\n",
    "    print(f\"funny({x}) = {result}\")\n"
   ]
  },
  {
   "cell_type": "code",
   "execution_count": 8,
   "id": "1dcbb608-d488-421d-846f-1f827b73a9c7",
   "metadata": {},
   "outputs": [
    {
     "name": "stdout",
     "output_type": "stream",
     "text": [
      "funny(-2) = 0\n",
      "funny(-1.5) = 0\n",
      "funny(-1.1) = 0\n",
      "funny(0) = 1.0\n",
      "funny(0.5) = 1.0\n",
      "funny(0.9) = 1.0\n",
      "funny(1) = 0\n",
      "funny(1.1) = 0\n",
      "funny(2) = 0\n"
     ]
    }
   ],
   "source": [
    "import numpy as np\n",
    "\n",
    "def funny(x):\n",
    "    if x <= -1:\n",
    "        return 0\n",
    "    elif x >= 1:\n",
    "        return 0\n",
    "    else:\n",
    "        return np.exp(1 - (1 / (1 - x**(10**250))))\n",
    "\n",
    "# Test the function with different values of x\n",
    "x_values = [-2, -1.5, -1.1, 0, 0.5, 0.9, 1, 1.1, 2]\n",
    "\n",
    "for x in x_values:\n",
    "    result = funny(x)\n",
    "    print(f\"funny({x}) = {result}\")\n"
   ]
  },
  {
   "cell_type": "code",
   "execution_count": 13,
   "id": "f5d001ca-cc51-4f2e-b5b5-dd8945cba7f9",
   "metadata": {},
   "outputs": [
    {
     "name": "stdout",
     "output_type": "stream",
     "text": [
      "yay\n"
     ]
    }
   ],
   "source": [
    "print(\"yay\")\n"
   ]
  },
  {
   "cell_type": "code",
   "execution_count": 15,
   "id": "dd8e77fb-1c6e-4628-ad07-bb3c91b1fc68",
   "metadata": {},
   "outputs": [
    {
     "name": "stdout",
     "output_type": "stream",
     "text": [
      "unfunny(-2) = YOU SUCK\n",
      "unfunny(-1.5) = YOU SUCK\n",
      "unfunny(-1.1) = YOU SUCK\n",
      "unfunny(0) = 6\n",
      "unfunny(0.5) = BALLS\n",
      "unfunny(0.9) = BALLS\n",
      "unfunny(1) = BALLS\n",
      "unfunny(1.1) = BALLS\n",
      "unfunny(2) = BALLS\n"
     ]
    }
   ],
   "source": [
    "def unfunny(x):\n",
    "    if x<0:\n",
    "        return (\"YOU SUCK\")\n",
    "    elif x>0:\n",
    "        return (\"BALLS\")\n",
    "    else: \n",
    "        return 6 + x\n",
    "x_values = [-2, -1.5, -1.1, 0, 0.5, 0.9, 1, 1.1, 2]\n",
    "\n",
    "for x in x_values:\n",
    "    result = unfunny(x)\n",
    "    print(f\"unfunny({x}) = {result}\")  "
   ]
  },
  {
   "cell_type": "code",
   "execution_count": 19,
   "id": "1919038f-7894-4b12-b550-0a3c2390c529",
   "metadata": {},
   "outputs": [],
   "source": [
    "def unfunny(func, a, b, tolerance):\n",
    "\n",
    "    def f(x):\n",
    "        f = eval(func)\n",
    "        return f\n",
    "\n",
    "    error = abs(b - a)\n",
    "\n",
    "    while error < tolerance:\n",
    "        c = (b + a)/2\n",
    "        # midpoint\n",
    "\n",
    "        if f(a) * f(b) >= 0:\n",
    "            print(\"no root or multiple roots present\")\n",
    "            quit()\n",
    "\n",
    "        elif f(c) * f(a)<0:\n",
    "            b = c\n",
    "            error = abs(b - a)\n",
    "\n",
    "        elif f(c) * f(b)<0:\n",
    "            a = c\n",
    "            error = abs(b - a)\n",
    "\n",
    "        else:\n",
    "            print(\"something is wrong\")\n",
    "            quit()\n",
    "    print(f\"Error: {error}\")\n",
    "    print(f\"a: {a} and b:{b}\")"
   ]
  },
  {
   "cell_type": "code",
   "execution_count": 49,
   "id": "6f106d89-28d9-45cc-9106-8423f537cd92",
   "metadata": {},
   "outputs": [
    {
     "name": "stdout",
     "output_type": "stream",
     "text": [
      "Error: 1\n",
      "a: 0 and b:1\n",
      "Error: 2\n",
      "a: 0 and b:2\n",
      "Error: 1\n",
      "a: 3 and b:4\n",
      "Error: 2\n",
      "a: 5 and b:7\n"
     ]
    }
   ],
   "source": [
    "def unfunny(func, a, b, tolerance):\n",
    "    \n",
    "    def f(x):\n",
    "        f = eval(func)\n",
    "        return f\n",
    "\n",
    "    error = abs(b - a)\n",
    "\n",
    "    while error < tolerance:\n",
    "        c = (b + a)/2\n",
    "        # midpoint\n",
    "\n",
    "        if f(a) * f(b) >= 0:\n",
    "            print(\"no root or multiple roots present\")\n",
    "            quit()\n",
    "\n",
    "        elif f(c) * f(a) <0:\n",
    "            b = c\n",
    "            error = abs(b - a)\n",
    "\n",
    "        elif f(c) * f(b) < 0:\n",
    "            a = c\n",
    "            error = abs(b - a)\n",
    "\n",
    "        else:\n",
    "            print(\"something is wrong\")\n",
    "            quit()\n",
    "    print(f\"Error: {error}\")\n",
    "    print(f\"a: {a} and b:{b}\")\n",
    "\n",
    "unfunny(\"(e^x + ln(x))\", 0, 1, 0.0000000001)\n",
    "unfunny(\"(arctan(x) − x^2)\", 0, 2, 0.0000000001)\n",
    "unfunny(\"((sin(x))/(ln(x)))\", 3, 4, 0.0000000001)\n",
    "unfunny(\"(ln(cos(x)))\", 5, 7, 0.0000000001)"
   ]
  },
  {
   "cell_type": "code",
   "execution_count": 52,
   "id": "c2830874-c157-4ead-ab33-c2d8cd958f4e",
   "metadata": {},
   "outputs": [
    {
     "ename": "TypeError",
     "evalue": "unsupported operand type(s) for *: 'NoneType' and 'NoneType'",
     "output_type": "error",
     "traceback": [
      "\u001b[0;31m---------------------------------------------------------------------------\u001b[0m",
      "\u001b[0;31mTypeError\u001b[0m                                 Traceback (most recent call last)",
      "Cell \u001b[0;32mIn[52], line 22\u001b[0m\n\u001b[1;32m     19\u001b[0m     \u001b[38;5;28mprint\u001b[39m(\u001b[38;5;124mf\u001b[39m\u001b[38;5;124m\"\u001b[39m\u001b[38;5;124mError: \u001b[39m\u001b[38;5;132;01m{\u001b[39;00m\u001b[38;5;28mabs\u001b[39m(b\u001b[38;5;250m \u001b[39m\u001b[38;5;241m-\u001b[39m\u001b[38;5;250m \u001b[39ma)\u001b[38;5;132;01m}\u001b[39;00m\u001b[38;5;124m\"\u001b[39m)\n\u001b[1;32m     20\u001b[0m     \u001b[38;5;28mprint\u001b[39m(\u001b[38;5;124mf\u001b[39m\u001b[38;5;124m\"\u001b[39m\u001b[38;5;124mroot: \u001b[39m\u001b[38;5;132;01m{\u001b[39;00m\u001b[38;5;28mround\u001b[39m((a\u001b[38;5;250m \u001b[39m\u001b[38;5;241m+\u001b[39m\u001b[38;5;250m \u001b[39mb)\u001b[38;5;250m \u001b[39m\u001b[38;5;241m/\u001b[39m\u001b[38;5;250m \u001b[39m\u001b[38;5;241m2\u001b[39m,\u001b[38;5;250m \u001b[39m\u001b[38;5;241m10\u001b[39m)\u001b[38;5;132;01m}\u001b[39;00m\u001b[38;5;124m\"\u001b[39m)\n\u001b[0;32m---> 22\u001b[0m \u001b[43munfunny\u001b[49m\u001b[43m(\u001b[49m\u001b[38;5;124;43m\"\u001b[39;49m\u001b[38;5;124;43mmath.exp(x) + math.log(x)\u001b[39;49m\u001b[38;5;124;43m\"\u001b[39;49m\u001b[43m,\u001b[49m\u001b[43m \u001b[49m\u001b[38;5;241;43m0.01\u001b[39;49m\u001b[43m,\u001b[49m\u001b[43m \u001b[49m\u001b[38;5;241;43m1\u001b[39;49m\u001b[43m,\u001b[49m\u001b[43m \u001b[49m\u001b[38;5;241;43m1e-10\u001b[39;49m\u001b[43m)\u001b[49m\n\u001b[1;32m     23\u001b[0m unfunny(\u001b[38;5;124m\"\u001b[39m\u001b[38;5;124mmath.atan(x) - x**2\u001b[39m\u001b[38;5;124m\"\u001b[39m, \u001b[38;5;241m0\u001b[39m, \u001b[38;5;241m2\u001b[39m, \u001b[38;5;241m1e-10\u001b[39m)\n\u001b[1;32m     24\u001b[0m unfunny(\u001b[38;5;124m\"\u001b[39m\u001b[38;5;124mmath.sin(x)/math.log(x)\u001b[39m\u001b[38;5;124m\"\u001b[39m, \u001b[38;5;241m3\u001b[39m, \u001b[38;5;241m4\u001b[39m, \u001b[38;5;241m1e-10\u001b[39m)\n",
      "Cell \u001b[0;32mIn[52], line 8\u001b[0m, in \u001b[0;36munfunny\u001b[0;34m(func, a, b, tolerance)\u001b[0m\n\u001b[1;32m      5\u001b[0m \u001b[38;5;28;01mwhile\u001b[39;00m \u001b[38;5;28mabs\u001b[39m(b \u001b[38;5;241m-\u001b[39m a) \u001b[38;5;241m>\u001b[39m\u001b[38;5;241m=\u001b[39m tolerance:\n\u001b[1;32m      6\u001b[0m     c \u001b[38;5;241m=\u001b[39m (b \u001b[38;5;241m+\u001b[39m a)\u001b[38;5;241m/\u001b[39m\u001b[38;5;241m2\u001b[39m\n\u001b[0;32m----> 8\u001b[0m     \u001b[38;5;28;01mif\u001b[39;00m \u001b[43mf\u001b[49m\u001b[43m(\u001b[49m\u001b[43ma\u001b[49m\u001b[43m)\u001b[49m\u001b[43m \u001b[49m\u001b[38;5;241;43m*\u001b[39;49m\u001b[43m \u001b[49m\u001b[43mf\u001b[49m\u001b[43m(\u001b[49m\u001b[43mc\u001b[49m\u001b[43m)\u001b[49m \u001b[38;5;241m<\u001b[39m \u001b[38;5;241m0\u001b[39m:\n\u001b[1;32m      9\u001b[0m         b \u001b[38;5;241m=\u001b[39m c\n\u001b[1;32m     11\u001b[0m     \u001b[38;5;28;01melif\u001b[39;00m f(b) \u001b[38;5;241m*\u001b[39m f(c) \u001b[38;5;241m<\u001b[39m \u001b[38;5;241m0\u001b[39m:\n",
      "\u001b[0;31mTypeError\u001b[0m: unsupported operand type(s) for *: 'NoneType' and 'NoneType'"
     ]
    }
   ],
   "source": [
    "def unfunny(func, a, b, tolerance):\n",
    "    def f(x):\n",
    "        f = eval(func)\n",
    "\n",
    "    while abs(b - a) >= tolerance:\n",
    "        c = (b + a)/2\n",
    "\n",
    "        if f(a) * f(c) < 0:\n",
    "            b = c\n",
    "\n",
    "        elif f(b) * f(c) < 0:\n",
    "            b = c\n",
    "        elif f(c) * f(b) < 0:\n",
    "            a = c\n",
    "        else:\n",
    "            print(\"something is wrong\")\n",
    "            quit()\n",
    "\n",
    "    print(f\"Error: {abs(b - a)}\")\n",
    "    print(f\"root: {round((a + b) / 2, 10)}\")\n",
    "    \n",
    "unfunny(\"math.exp(x) + math.log(x)\", 0.01, 1, 1e-10)\n",
    "unfunny(\"math.atan(x) - x**2\", 0, 2, 1e-10)\n",
    "unfunny(\"math.sin(x)/math.log(x)\", 3, 4, 1e-10)\n",
    "unfunny(\"math.log(math.cos(x))\", 5, 7, 1e-10)"
   ]
  },
  {
   "cell_type": "code",
   "execution_count": 55,
   "id": "f7fe2bee-df77-4dc8-b41b-66d651826418",
   "metadata": {},
   "outputs": [
    {
     "name": "stdout",
     "output_type": "stream",
     "text": [
      "Error: 5.762557098165644e-11\n",
      "Root: 0.2698741376\n",
      "No root or multiple roots present.\n",
      "Error: 5.820766091346741e-11\n",
      "Root: 3.1415926536\n",
      "No root or multiple roots present.\n"
     ]
    }
   ],
   "source": [
    "import math\n",
    "\n",
    "def unfunny(func, a, b, tolerance):\n",
    "    def f(x):\n",
    "        return eval(func)\n",
    "\n",
    "    if f(a) * f(b) >= 0:\n",
    "        print(\"No root or multiple roots present.\")\n",
    "        return None\n",
    "\n",
    "    while abs(b - a) >= tolerance:\n",
    "        c = (b + a) / 2\n",
    "\n",
    "        if f(c) == 0:\n",
    "            break \n",
    "        elif f(a) * f(c) < 0:\n",
    "            b = c\n",
    "        else:\n",
    "            a = c\n",
    "\n",
    "    print(f\"Error: {abs(b - a)}\")\n",
    "    print(f\"Root: {round((a + b) / 2, 10)}\")\n",
    "\n",
    "\n",
    "unfunny(\"math.exp(x) + math.log(x)\", 0.01, 1, 1e-10)\n",
    "unfunny(\"math.atan(x) - x**2\", 0, 2, 1e-10)\n",
    "unfunny(\"math.sin(x)/math.log(x)\", 3, 4, 1e-10)\n",
    "unfunny(\"math.log(math.cos(x))\", 5, 7, 1e-10)"
   ]
  },
  {
   "cell_type": "code",
   "execution_count": 56,
   "id": "723e803d-9209-4951-b312-fd3c2da7dbb5",
   "metadata": {},
   "outputs": [
    {
     "ename": "NameError",
     "evalue": "name 'k' is not defined",
     "output_type": "error",
     "traceback": [
      "\u001b[0;31m---------------------------------------------------------------------------\u001b[0m",
      "\u001b[0;31mNameError\u001b[0m                                 Traceback (most recent call last)",
      "Cell \u001b[0;32mIn[56], line 1\u001b[0m\n\u001b[0;32m----> 1\u001b[0m \u001b[43mk\u001b[49m\n",
      "\u001b[0;31mNameError\u001b[0m: name 'k' is not defined"
     ]
    }
   ],
   "source": [
    "k"
   ]
  },
  {
   "cell_type": "code",
   "execution_count": null,
   "id": "eb01e2fb-31d4-46cc-9286-f962d04cfe6c",
   "metadata": {},
   "outputs": [],
   "source": []
  }
 ],
 "metadata": {
  "kernelspec": {
   "display_name": "Python 3 (ipykernel)",
   "language": "python",
   "name": "python3"
  },
  "language_info": {
   "codemirror_mode": {
    "name": "ipython",
    "version": 3
   },
   "file_extension": ".py",
   "mimetype": "text/x-python",
   "name": "python",
   "nbconvert_exporter": "python",
   "pygments_lexer": "ipython3",
   "version": "3.11.4"
  }
 },
 "nbformat": 4,
 "nbformat_minor": 5
}
